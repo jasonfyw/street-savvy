{
 "cells": [
  {
   "cell_type": "code",
   "execution_count": 2,
   "metadata": {},
   "outputs": [],
   "source": [
    "import json"
   ]
  },
  {
   "cell_type": "code",
   "execution_count": 4,
   "metadata": {},
   "outputs": [],
   "source": [
    "data = []"
   ]
  },
  {
   "cell_type": "code",
   "execution_count": 5,
   "metadata": {},
   "outputs": [],
   "source": [
    "for i in range(13):\n",
    "    for j in range(3):\n",
    "        with open('data/restaurants_zone_{}-{}.json'.format(i, j)) as f:\n",
    "            d = json.load(f)\n",
    "            data += d['results']"
   ]
  },
  {
   "cell_type": "code",
   "execution_count": 6,
   "metadata": {},
   "outputs": [
    {
     "data": {
      "text/plain": [
       "763"
      ]
     },
     "execution_count": 6,
     "metadata": {},
     "output_type": "execute_result"
    }
   ],
   "source": [
    "len(data)"
   ]
  },
  {
   "cell_type": "code",
   "execution_count": 8,
   "metadata": {},
   "outputs": [
    {
     "data": {
      "text/plain": [
       "{'business_status': 'OPERATIONAL',\n",
       " 'geometry': {'location': {'lat': 43.6643882, 'lng': -79.38017529999999},\n",
       "  'viewport': {'northeast': {'lat': 43.6657179302915,\n",
       "    'lng': -79.37892361970849},\n",
       "   'southwest': {'lat': 43.6630199697085, 'lng': -79.3816215802915}}},\n",
       " 'icon': 'https://maps.gstatic.com/mapfiles/place_api/icons/v1/png_71/restaurant-71.png',\n",
       " 'icon_background_color': '#FF9E67',\n",
       " 'icon_mask_base_uri': 'https://maps.gstatic.com/mapfiles/place_api/icons/v2/restaurant_pinlet',\n",
       " 'name': 'North of Brooklyn Pizzeria',\n",
       " 'opening_hours': {'open_now': False},\n",
       " 'photos': [{'height': 3024,\n",
       "   'html_attributions': ['<a href=\"https://maps.google.com/maps/contrib/100562505039596057146\">Cacey L</a>'],\n",
       "   'photo_reference': 'ARywPAJMrPqWpDHmutKnq9AQ1zKpoyXeYZIs9FiFH0sCFh5Wi0XtslxsJxWQreEyVr9ku_Ja_rOZyHqJaK3o1S0NOGZhCHsHi9_gbcRcRR7LKRVbzDu4OyPXOz2bsA_i2QsU5U--ZL2V6N_fJgogZ3lyCcgUZSTaR-ofREBUDeXTVp7hRl9W',\n",
       "   'width': 4032}],\n",
       " 'place_id': 'ChIJKaKuSrM0K4gRB-KuaXrs1Mw',\n",
       " 'plus_code': {'compound_code': 'MJ79+QW Toronto, ON, Canada',\n",
       "  'global_code': '87M2MJ79+QW'},\n",
       " 'price_level': 2,\n",
       " 'rating': 4.3,\n",
       " 'reference': 'ChIJKaKuSrM0K4gRB-KuaXrs1Mw',\n",
       " 'scope': 'GOOGLE',\n",
       " 'types': ['meal_delivery',\n",
       "  'meal_takeaway',\n",
       "  'restaurant',\n",
       "  'food',\n",
       "  'point_of_interest',\n",
       "  'establishment'],\n",
       " 'user_ratings_total': 623,\n",
       " 'vicinity': '469 Church Street, Toronto'}"
      ]
     },
     "execution_count": 8,
     "metadata": {},
     "output_type": "execute_result"
    }
   ],
   "source": [
    "data[100]"
   ]
  },
  {
   "cell_type": "code",
   "execution_count": 9,
   "metadata": {},
   "outputs": [],
   "source": [
    "with open('data/all_restaurants.json', 'w') as f:\n",
    "    json.dump(data, f)"
   ]
  },
  {
   "cell_type": "code",
   "execution_count": null,
   "metadata": {},
   "outputs": [],
   "source": []
  }
 ],
 "metadata": {
  "kernelspec": {
   "display_name": "Python 3",
   "language": "python",
   "name": "python3"
  },
  "language_info": {
   "codemirror_mode": {
    "name": "ipython",
    "version": 3
   },
   "file_extension": ".py",
   "mimetype": "text/x-python",
   "name": "python",
   "nbconvert_exporter": "python",
   "pygments_lexer": "ipython3",
   "version": "3.10.1 (v3.10.1:2cd268a3a9, Dec  6 2021, 14:28:59) [Clang 13.0.0 (clang-1300.0.29.3)]"
  },
  "orig_nbformat": 4,
  "vscode": {
   "interpreter": {
    "hash": "44a9cdcbdccbf05a880e90d2e6fe72470baab4d1b82472d890be0596ed887a6b"
   }
  }
 },
 "nbformat": 4,
 "nbformat_minor": 2
}
