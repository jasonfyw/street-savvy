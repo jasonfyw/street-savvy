{
 "cells": [
  {
   "cell_type": "code",
   "execution_count": 7,
   "metadata": {},
   "outputs": [],
   "source": [
    "from dotenv import dotenv_values\n",
    "import json"
   ]
  },
  {
   "cell_type": "code",
   "execution_count": 10,
   "metadata": {},
   "outputs": [
    {
     "name": "stdout",
     "output_type": "stream",
     "text": [
      "Collecting cohere\n",
      "  Downloading cohere-3.1.6.tar.gz (10 kB)\n",
      "  Preparing metadata (setup.py) ... \u001b[?25ldone\n",
      "\u001b[?25hRequirement already satisfied: requests in /Users/jasonwang/opt/anaconda3/lib/python3.9/site-packages (from cohere) (2.27.1)\n",
      "Requirement already satisfied: charset-normalizer~=2.0.0 in /Users/jasonwang/opt/anaconda3/lib/python3.9/site-packages (from requests->cohere) (2.0.4)\n",
      "Requirement already satisfied: idna<4,>=2.5 in /Users/jasonwang/opt/anaconda3/lib/python3.9/site-packages (from requests->cohere) (3.3)\n",
      "Requirement already satisfied: certifi>=2017.4.17 in /Users/jasonwang/opt/anaconda3/lib/python3.9/site-packages (from requests->cohere) (2021.10.8)\n",
      "Requirement already satisfied: urllib3<1.27,>=1.21.1 in /Users/jasonwang/opt/anaconda3/lib/python3.9/site-packages (from requests->cohere) (1.26.9)\n",
      "Building wheels for collected packages: cohere\n",
      "  Building wheel for cohere (setup.py) ... \u001b[?25ldone\n",
      "\u001b[?25h  Created wheel for cohere: filename=cohere-3.1.6-cp39-cp39-macosx_10_9_x86_64.whl size=11873 sha256=2a7a837e07b5efd3099e7b06e2cb66dc4370dc64bac3527b58676de0820de54e\n",
      "  Stored in directory: /Users/jasonwang/Library/Caches/pip/wheels/15/44/15/a2acb5fc0a17bf3d0515c5ccd06ad6e4b3dba4e7201e870d39\n",
      "Successfully built cohere\n",
      "Installing collected packages: cohere\n",
      "Successfully installed cohere-3.1.6\n",
      "\n",
      "\u001b[1m[\u001b[0m\u001b[34;49mnotice\u001b[0m\u001b[1;39;49m]\u001b[0m\u001b[39;49m A new release of pip available: \u001b[0m\u001b[31;49m22.3\u001b[0m\u001b[39;49m -> \u001b[0m\u001b[32;49m22.3.1\u001b[0m\n",
      "\u001b[1m[\u001b[0m\u001b[34;49mnotice\u001b[0m\u001b[1;39;49m]\u001b[0m\u001b[39;49m To update, run: \u001b[0m\u001b[32;49mpip install --upgrade pip\u001b[0m\n"
     ]
    }
   ],
   "source": [
    "import sys\n",
    "!{sys.executable} -m pip install cohere"
   ]
  },
  {
   "cell_type": "code",
   "execution_count": 8,
   "metadata": {},
   "outputs": [],
   "source": [
    "config = dotenv_values(\".env\")"
   ]
  },
  {
   "cell_type": "code",
   "execution_count": 13,
   "metadata": {},
   "outputs": [],
   "source": [
    "CATEGORIES = [\n",
    "    'american',\n",
    "    'asian',\n",
    "    'chinese',\n",
    "    'european',\n",
    "    'french',\n",
    "    'hamburgers',\n",
    "    'healthy',\n",
    "    'italian',\n",
    "    'japanese',\n",
    "    'korean',\n",
    "    'mediterranean',\n",
    "    'mexican',\n",
    "    'thai',\n",
    "    'dessert',\n",
    "    'coffee'\n",
    "]"
   ]
  },
  {
   "cell_type": "code",
   "execution_count": 14,
   "metadata": {},
   "outputs": [
    {
     "data": {
      "text/plain": [
       "15"
      ]
     },
     "execution_count": 14,
     "metadata": {},
     "output_type": "execute_result"
    }
   ],
   "source": [
    "len(CATEGORIES)"
   ]
  },
  {
   "cell_type": "code",
   "execution_count": 17,
   "metadata": {},
   "outputs": [],
   "source": [
    "import cohere  \n",
    "co = cohere.Client(config['COHERE_API_KEY'])"
   ]
  },
  {
   "cell_type": "code",
   "execution_count": 37,
   "metadata": {},
   "outputs": [],
   "source": [
    "from cohere.classify import Example\n",
    "examples = []\n",
    "# load in labelled dataset\n",
    "with open('data/all_restaurants_details_labelled.json', 'r') as f:\n",
    "    labelled_locations = json.load(f)\n",
    "\n",
    "for location in labelled_locations:\n",
    "    examples.append(Example(location['editorial_summary']['overview'], location['category']))\n",
    "    examples.append(Example(location['name'], location['category']))"
   ]
  },
  {
   "cell_type": "code",
   "execution_count": 38,
   "metadata": {},
   "outputs": [
    {
     "data": {
      "text/plain": [
       "[Example(text='Eatery with a bustling patio & bright, snug interior, serving classic Mexican fare & margaritas.', label='mexican'),\n",
       " Example(text='El Trompo', label='mexican'),\n",
       " Example(text=\"Susur Lee's stylish eatery for creative Asian & French-influenced dishes meant for sharing.\", label='asian'),\n",
       " Example(text='Lee', label='asian'),\n",
       " Example(text='Canadian chain selling signature premium-blend coffee, plus light fare like pastries & panini.', label='coffee'),\n",
       " Example(text='Tim Hortons', label='coffee'),\n",
       " Example(text=\"Vietnamese quick-serve restaurant with a health focus that's open late for noodles & sandwiches.\", label='asian'),\n",
       " Example(text='Ginger', label='asian'),\n",
       " Example(text='Fast-food outlet serving up namesake root beer, plus burgers, chicken & fries.', label='hamburgers'),\n",
       " Example(text='A&W Canada', label='hamburgers'),\n",
       " Example(text='Intimate eatery for Eritrean & Ethiopian eats, with vegan & gluten-free options & a coffee ceremony.', label='african'),\n",
       " Example(text='African Palace', label='african'),\n",
       " Example(text='Relaxed, contemporary restaurant serving Thai & Malaysian dishes, plus beer & wine.', label='thai'),\n",
       " Example(text='Thai Room - Cabbagetown', label='thai'),\n",
       " Example(text='Pizzeria offering thin-crust, regular & multi-grain pies with a wide selection of toppings.', label='italian'),\n",
       " Example(text='Panago Pizza', label='italian'),\n",
       " Example(text='Stalwart 1930s bistro reborn under chef Noah Goldberg decorated with arresting wall tapestries.', label='american'),\n",
       " Example(text='Peter Pan Bistro', label='american'),\n",
       " Example(text='Basic, unassuming spot cooking up spicy tofu hot pots & other Korean fare, including kimchi.', label='korean'),\n",
       " Example(text='Buk Chang Dong Soon Tofu', label='korean'),\n",
       " Example(text='Cafe offering chocolate desserts (from waffles to fondue) & drinks made with a variety of cocoas.', label='desert'),\n",
       " Example(text='CACAO 70 Eatery (Distillery)', label='desert'),\n",
       " Example(text='This minimally decorated eatery offers a simple menu of burgers, fried chicken sandwiches & fries.', label='american'),\n",
       " Example(text='Rudy', label='american'),\n",
       " Example(text='Classic, long-running fast-food chain known for its burgers & fries.', label='hamburgers'),\n",
       " Example(text=\"McDonald's\", label='hamburgers'),\n",
       " Example(text='2-level sushi house with lunch specials & bento boxes plus takeout & delivery.', label='japanese'),\n",
       " Example(text='Sushi Inn', label='japanese'),\n",
       " Example(text='Eatery with a bustling patio & bright, snug interior, serving classic Mexican fare & margaritas.', label='mexican'),\n",
       " Example(text='El Trompo', label='mexican'),\n",
       " Example(text='Lively, art-decorated outpost for homestyle Mexican cooking along with cocktails & local music acts.', label='mexican'),\n",
       " Example(text='LA REV', label='mexican'),\n",
       " Example(text='Speakeasy-style eatery & bar with an American menu, open mike nights & live-jazz brunches.', label='american'),\n",
       " Example(text='DeSotos Eatery', label='american'),\n",
       " Example(text='1940s-style diner with jazz-inspired decor, offering breakfast & classic comfort-food dishes.', label='american'),\n",
       " Example(text='The Senator', label='american'),\n",
       " Example(text='The open kitchen of this relaxed, modern spot serves international fare & brunch on weekends.', label='american'),\n",
       " Example(text=\"Mildred's Temple Kitchen\", label='american'),\n",
       " Example(text='Unpretentious spot pulling 24 taps of craft beer along with burgers, wings & fish & chips.', label='drinks'),\n",
       " Example(text='Dominion Pub and Kitchen', label='drinks'),\n",
       " Example(text='Chic, upmarket Italian place featuring elevated Italian cuisine & an expansive wine list.', label='italian'),\n",
       " Example(text='Mercatto', label='italian'),\n",
       " Example(text='Delivery/carryout chain offering a wide range of pizzas & a variety of other dishes & sides.', label='italian'),\n",
       " Example(text=\"Domino's Pizza\", label='italian'),\n",
       " Example(text='Cozy spot with Neapolitan-style pies cooked in a wood-fired pizza oven, plus pastas, beer & wine.', label='italian'),\n",
       " Example(text='Annette Food Market', label='italian'),\n",
       " Example(text='Bright cafe famous for top-shelf coffees serving European fare from fruit-topped waffles to pizza.', label='european'),\n",
       " Example(text='Faema Caffe', label='european'),\n",
       " Example(text='Relaxed, contemporary restaurant serving Thai & Malaysian dishes, plus beer & wine.', label='thai'),\n",
       " Example(text='Thai Room - Cabbagetown', label='thai'),\n",
       " Example(text='Health-minded, counter-serve chain offering tossed-to-order salads plus soups, burritos & more.', label='healthy'),\n",
       " Example(text='Freshii', label='healthy'),\n",
       " Example(text='Branch of a chain featuring Louisiana-style spicy fried chicken & side dishes like red beans & rice.', label='american'),\n",
       " Example(text='Popeyes Louisiana Kitchen', label='american'),\n",
       " Example(text='Retro-style diner serving all-day breakfasts, burgers, sandwiches & bottomless cups of coffee.', label='american'),\n",
       " Example(text=\"Duffy's Tavern\", label='american'),\n",
       " Example(text='Japanese seafood option with a varied menu, adventurous presentations & comfortable decor.', label='japanese'),\n",
       " Example(text='To-Ne Sushi', label='japanese'),\n",
       " Example(text='Chic eatery inside Holt Renfrew serving gourmet salads, sandwiches & sweets, plus drinks.', label='american'),\n",
       " Example(text='Holts Café | Contemporary Canadian Cuisine', label='american'),\n",
       " Example(text='Offering popular Italian fare & a lengthy wine list in a 3-level venue with modern rustic decor.', label='italian'),\n",
       " Example(text='Cibo Wine Bar Yorkville', label='italian'),\n",
       " Example(text=\"Grant van Gameron's Spanish pinxtos bar features Gaudi-esque wood panels & a Barcelona feel.\", label='european'),\n",
       " Example(text='Bar Raval', label='european'),\n",
       " Example(text='Casual counter-serve chain for build-your-own sandwiches & salads, with health-conscious options.', label='american'),\n",
       " Example(text='Subway', label='american'),\n",
       " Example(text='This snug, no-frills neighbourhood Chinese eatery boasts an open kitchen & traditional dishes.', label='chinese'),\n",
       " Example(text='China Island', label='chinese'),\n",
       " Example(text='Casual counter-serve chain for build-your-own sandwiches & salads, with health-conscious options.', label='american'),\n",
       " Example(text='Subway', label='american'),\n",
       " Example(text='Branch of a chain featuring Louisiana-style spicy fried chicken & side dishes like red beans & rice.', label='american'),\n",
       " Example(text='Popeyes Louisiana Kitchen', label='american'),\n",
       " Example(text='Slices, sandwiches, panzerotti & pies made-to-order in an ageless eatery with simple decor.', label='italian'),\n",
       " Example(text='Bitondo Pizzeria', label='italian'),\n",
       " Example(text='Comfortable bar with black leather banquettes, serving whisky, rum, tequila & signature cocktails.', label='drinks'),\n",
       " Example(text='SpiritHouse Toronto', label='drinks'),\n",
       " Example(text=\"Susur Lee's stylish eatery for creative Asian & French-influenced dishes meant for sharing.\", label='asian'),\n",
       " Example(text='Lee', label='asian'),\n",
       " Example(text='Relaxed French bistro with an open kitchen, serving classic dishes alongside long wine & beer lists.', label='french'),\n",
       " Example(text='La Palette', label='french'),\n",
       " Example(text='Fast-food chain offering Mexican fare, including design-your-own burritos, tacos & bowls.', label='mexican'),\n",
       " Example(text='Chipotle Mexican Grill', label='mexican'),\n",
       " Example(text='Health-minded, counter-serve chain offering tossed-to-order salads plus soups, burritos & more.', label='healthy'),\n",
       " Example(text='Freshii', label='healthy'),\n",
       " Example(text='Homemade Italian specialties & wine served in a warehouse-style cafe with a delicatessen.', label='italian'),\n",
       " Example(text='Terroni Sud Forno Produzione e Spaccio (Spaccio East)', label='italian'),\n",
       " Example(text='Chic eatery inside Holt Renfrew serving gourmet salads, sandwiches & sweets, plus drinks.', label='american'),\n",
       " Example(text='Holts Café | Contemporary Canadian Cuisine', label='american'),\n",
       " Example(text='Easygoing local chain for fried & grilled cod, halibut & other seafood, plus fresh-cut fries.', label='american'),\n",
       " Example(text='Halibut House Fish and Chips Inc.', label='american'),\n",
       " Example(text=\"Comfort food with Canadian & global wines, plus a lounge fireplace & TV on the Hilton's 2nd floor.\", label='american'),\n",
       " Example(text='Marquis Lounge and Bistro', label='american'),\n",
       " Example(text='Established restaurant known for its chicken wings & drumsticks coated in spicy house sauce.', label='american'),\n",
       " Example(text=\"Duff's Famous Wings\", label='american'),\n",
       " Example(text='Laid-back restaurant & sports bar with a wide menu of hearty pub grub, plus draft beers & cocktails.', label='drinks'),\n",
       " Example(text=\"Gabby's - Roncesvalles\", label='drinks'),\n",
       " Example(text='Popular local chain outpost for falafels, shawarma wraps, combo plates & daily meal deals.', label='mediterranean'),\n",
       " Example(text=\"Ali baba's Middle Eastern Cuisine\", label='mediterranean')]"
      ]
     },
     "execution_count": 38,
     "metadata": {},
     "output_type": "execute_result"
    }
   ],
   "source": [
    "examples"
   ]
  },
  {
   "cell_type": "code",
   "execution_count": 20,
   "metadata": {},
   "outputs": [],
   "source": [
    "with open('data/all_restaurants_details.json', 'r') as f:\n",
    "    unlabelled_locations = json.load(f)"
   ]
  },
  {
   "cell_type": "code",
   "execution_count": 21,
   "metadata": {},
   "outputs": [
    {
     "data": {
      "text/plain": [
       "763"
      ]
     },
     "execution_count": 21,
     "metadata": {},
     "output_type": "execute_result"
    }
   ],
   "source": [
    "len(unlabelled_locations)"
   ]
  },
  {
   "cell_type": "code",
   "execution_count": 26,
   "metadata": {},
   "outputs": [],
   "source": [
    "# extract all summaries\n",
    "test_data = {}\n",
    "for i in range(len(unlabelled_locations)):\n",
    "    try:\n",
    "        test_data[i] = unlabelled_locations[i]['editorial_summary']['overview']\n",
    "    except KeyError:\n",
    "        test_data[i] = unlabelled_locations[i]['name']"
   ]
  },
  {
   "cell_type": "code",
   "execution_count": 28,
   "metadata": {},
   "outputs": [
    {
     "data": {
      "text/plain": [
       "763"
      ]
     },
     "execution_count": 28,
     "metadata": {},
     "output_type": "execute_result"
    }
   ],
   "source": [
    "len(test_data)"
   ]
  },
  {
   "cell_type": "code",
   "execution_count": 39,
   "metadata": {},
   "outputs": [],
   "source": [
    "res = []\n",
    "for i in range(len(test_data)//96):\n",
    "    inputs = list(test_data.values())[i*96:(i+1)*96]\n",
    "    response = co.classify(\n",
    "        model = 'large',\n",
    "        inputs = inputs,\n",
    "        examples = examples\n",
    "    )\n",
    "    res += response.classifications"
   ]
  },
  {
   "cell_type": "code",
   "execution_count": 44,
   "metadata": {},
   "outputs": [
    {
     "data": {
      "text/plain": [
       "672"
      ]
     },
     "execution_count": 44,
     "metadata": {},
     "output_type": "execute_result"
    }
   ],
   "source": [
    "len(res)"
   ]
  },
  {
   "cell_type": "code",
   "execution_count": 45,
   "metadata": {},
   "outputs": [],
   "source": [
    "for i in range(len(res)):\n",
    "    unlabelled_locations[i]['category'] = res[i].prediction"
   ]
  },
  {
   "cell_type": "code",
   "execution_count": 46,
   "metadata": {},
   "outputs": [],
   "source": [
    "with open('data/all_restaurants_labelled_cohere.json', 'w') as f:\n",
    "    json.dump(unlabelled_locations, f)"
   ]
  },
  {
   "cell_type": "code",
   "execution_count": null,
   "metadata": {},
   "outputs": [],
   "source": []
  }
 ],
 "metadata": {
  "kernelspec": {
   "display_name": "Python 3 (ipykernel)",
   "language": "python",
   "name": "python3"
  },
  "language_info": {
   "codemirror_mode": {
    "name": "ipython",
    "version": 3
   },
   "file_extension": ".py",
   "mimetype": "text/x-python",
   "name": "python",
   "nbconvert_exporter": "python",
   "pygments_lexer": "ipython3",
   "version": "3.9.12"
  },
  "vscode": {
   "interpreter": {
    "hash": "3625eed926ff7ec924a8d5c18368fd44008f5773d3fca10d680a0b1099780158"
   }
  }
 },
 "nbformat": 4,
 "nbformat_minor": 2
}
